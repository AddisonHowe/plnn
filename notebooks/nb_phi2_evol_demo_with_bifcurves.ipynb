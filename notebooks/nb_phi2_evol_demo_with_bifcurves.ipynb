{
 "cells": [
  {
   "cell_type": "code",
   "execution_count": null,
   "metadata": {},
   "outputs": [],
   "source": [
    "import numpy as np\n",
    "import jax.numpy as jnp\n",
    "import jax.random as jrandom\n",
    "import matplotlib.pyplot as plt\n",
    "from matplotlib.animation import FuncAnimation\n",
    "from IPython.display import HTML\n",
    "\n",
    "from plnn.models.algebraic_pl import AlgebraicPL\n",
    "from plnn.pl import plot_phi"
   ]
  },
  {
   "cell_type": "code",
   "execution_count": null,
   "metadata": {},
   "outputs": [],
   "source": [
    "seed = 42\n",
    "rng = np.random.default_rng(seed=seed)"
   ]
  },
  {
   "cell_type": "code",
   "execution_count": null,
   "metadata": {},
   "outputs": [],
   "source": [
    "OUTDIR = \"out\"\n",
    "\n",
    "CASE = 1  # Use signals\n",
    "# CASE = 2  # Use parameters"
   ]
  },
  {
   "cell_type": "code",
   "execution_count": null,
   "metadata": {},
   "outputs": [],
   "source": [
    "if CASE == 1:\n",
    "    saveas = \"phi2_evol_with_bifs\"\n",
    "    xlabel = \"$s_1$\"\n",
    "    ylabel = \"$s_2$\"\n",
    "    title = \"Signals\"\n",
    "elif CASE == 2:\n",
    "    saveas = \"phi2_evol_with_bifs_ps\"\n",
    "    xlabel = \"$p_3$\"\n",
    "    ylabel = \"$p_4$\"\n",
    "    title = \"Parameters\""
   ]
  },
  {
   "cell_type": "code",
   "execution_count": null,
   "metadata": {},
   "outputs": [],
   "source": [
    "model2, _ = AlgebraicPL.make_model(\n",
    "    key=jrandom.PRNGKey(0),\n",
    "    dtype=jnp.float64,\n",
    "    algebraic_phi_id=\"phi2\",\n",
    "    tilt_weights=[[1, 0],[0, 1]],\n",
    "    tilt_bias=[0, 0],\n",
    "    sigma_init=0.8,\n",
    "    signal_type=\"sigmoid\",\n",
    "    nsigparams=4,\n",
    ")"
   ]
  },
  {
   "cell_type": "code",
   "execution_count": null,
   "metadata": {},
   "outputs": [],
   "source": [
    "tilt_center = [-0.25, 0.1]\n",
    "direction = [1., 1.]\n",
    "tilt_radius = 1.\n",
    "tilt_list = [tilt_center]\n",
    "\n",
    "tilt_center = np.array(tilt_center)\n",
    "direction = np.array(direction) / np.linalg.norm(direction)\n",
    "\n",
    "for r in np.linspace(0, tilt_radius, 20):\n",
    "    p = tilt_center + r * direction\n",
    "    tilt_list.append(p)\n",
    "\n",
    "thetas = np.linspace(0, 2*np.pi, 60)\n",
    "th0 = np.arctan(direction[1]/direction[0])\n",
    "for th in thetas:\n",
    "    p = tilt_center + tilt_radius * np.array([np.cos(th+th0), np.sin(th+th0)])\n",
    "    tilt_list.append(p)\n",
    "\n",
    "for r in np.flip(np.linspace(0, tilt_radius, 20)):\n",
    "    p = tilt_center + r * direction\n",
    "    tilt_list.append(p)\n",
    "\n",
    "tilt_list = np.array(tilt_list, dtype=np.float64)"
   ]
  },
  {
   "cell_type": "code",
   "execution_count": null,
   "metadata": {},
   "outputs": [],
   "source": [
    "from cont.binary_flip import get_binary_flip_curves\n",
    "\n",
    "bifcurves, bifcolors = get_binary_flip_curves(add_flip_curves=True)"
   ]
  },
  {
   "cell_type": "code",
   "execution_count": null,
   "metadata": {},
   "outputs": [],
   "source": [
    "# Initialize the figure and axis object\n",
    "fig = plt.figure(figsize=(7,5))\n",
    "ax1 = fig.add_subplot(121, projection='3d')\n",
    "ax1.view_init(50, -60)\n",
    "\n",
    "left, bottom, width, height = 0.6, 0.25, 0.4, 0.4\n",
    "ax2 = fig.add_axes([left, bottom, width, height])\n",
    "ax2.plot(tilt_list[:,0], tilt_list[:,1], 'k', alpha=0.5)\n",
    "ax2.set_aspect('equal')\n",
    "tilt_marker, = ax2.plot(tilt_list[0,0], tilt_list[0,1], 'r.')\n",
    "ax2.set_xlabel(xlabel)\n",
    "ax2.set_ylabel(ylabel)\n",
    "ax2.set_title(title)\n",
    "ax2.set_xlim([-2, 2])\n",
    "ax2.set_ylim([-2, 2])\n",
    "\n",
    "for curve, col in zip(bifcurves, bifcolors):\n",
    "    ax2.plot(curve[:,0], curve[:,1], color=col)\n",
    "\n",
    "def update(i):\n",
    "    ax1.cla()  # Clear the current plot\n",
    "    plot_phi(\n",
    "        model2,\n",
    "        r=2,\n",
    "        plot3d=True,\n",
    "        tilt=tilt_list[i],\n",
    "        res=200,\n",
    "        equal_axes=True,\n",
    "        include_cbar=False,\n",
    "        title=\"\",\n",
    "        cbar_title=\"$\\ln\\phi$\",\n",
    "        show=True,\n",
    "        view_init=(50, -60),\n",
    "        ax=ax1,\n",
    "        tight_layout=False\n",
    "    )\n",
    "\n",
    "    tilt_marker.set_xdata([tilt_list[i, 0]])\n",
    "    tilt_marker.set_ydata([tilt_list[i, 1]])\n",
    "\n",
    "\n",
    "ani = FuncAnimation(fig, update, frames=len(tilt_list), interval=50)"
   ]
  },
  {
   "cell_type": "code",
   "execution_count": null,
   "metadata": {},
   "outputs": [],
   "source": [
    "HTML(ani.to_html5_video())"
   ]
  },
  {
   "cell_type": "code",
   "execution_count": null,
   "metadata": {},
   "outputs": [],
   "source": [
    "ani.save(f\"{OUTDIR}/{saveas}.mp4\");"
   ]
  }
 ],
 "metadata": {
  "kernelspec": {
   "display_name": "Python 3",
   "language": "python",
   "name": "python3"
  },
  "language_info": {
   "codemirror_mode": {
    "name": "ipython",
    "version": 3
   },
   "file_extension": ".py",
   "mimetype": "text/x-python",
   "name": "python",
   "nbconvert_exporter": "python",
   "pygments_lexer": "ipython3",
   "version": "3.9.18"
  }
 },
 "nbformat": 4,
 "nbformat_minor": 2
}
